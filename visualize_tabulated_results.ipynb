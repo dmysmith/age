{
 "cells": [
  {
   "cell_type": "code",
   "execution_count": 1,
   "id": "447b6065",
   "metadata": {},
   "outputs": [],
   "source": [
    "# import packages\n",
    "import hdf5storage"
   ]
  },
  {
   "cell_type": "code",
   "execution_count": 2,
   "id": "696b8b8d",
   "metadata": {},
   "outputs": [],
   "source": [
    "# define paths\n",
    "results_dir = \"/space/syn50/1/data/ABCD/d9smith/age/results_2023-12-11/designMat4_BFsSexIncEducHispPCsScanSoftMotion_bly2y4/\";\n",
    "outpath = \"/home/d9smith/projects/age/plots/tabulated/\";"
   ]
  },
  {
   "cell_type": "code",
   "execution_count": null,
   "id": "fc893288",
   "metadata": {},
   "outputs": [],
   "source": [
    "# specify imaging outcome of interest\n",
    "img_pheno = 'rsi_rni_wm_dsk'\n",
    "\n",
    "results = hdf5storage.loadmat(results_dir + 'FEMA_wrapper_output_external_mri_y_' + img_pheno + '.mat');"
   ]
  }
 ],
 "metadata": {
  "kernelspec": {
   "display_name": "age",
   "language": "python",
   "name": "age"
  },
  "language_info": {
   "codemirror_mode": {
    "name": "ipython",
    "version": 3
   },
   "file_extension": ".py",
   "mimetype": "text/x-python",
   "name": "python",
   "nbconvert_exporter": "python",
   "pygments_lexer": "ipython3",
   "version": "3.11.5"
  }
 },
 "nbformat": 4,
 "nbformat_minor": 5
}
